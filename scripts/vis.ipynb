{
 "cells": [
  {
   "cell_type": "markdown",
   "metadata": {},
   "source": [
    "# Visualization"
   ]
  },
  {
   "cell_type": "code",
   "execution_count": 2,
   "metadata": {},
   "outputs": [],
   "source": [
    "import numpy as np\n",
    "import matplotlib.pyplot as plt\n",
    "import pandas as pd\n",
    "import os\n"
   ]
  },
  {
   "cell_type": "code",
   "execution_count": 3,
   "metadata": {},
   "outputs": [],
   "source": [
    "plt.rcParams['text.usetex'] = True\n",
    "plt.rcParams['font.family'] = 'serif'\n",
    "plt.rcParams['axes.grid'] = True\n"
   ]
  },
  {
   "cell_type": "code",
   "execution_count": 4,
   "metadata": {},
   "outputs": [],
   "source": [
    "data_path = \"../data/saturation/\"\n",
    "m = [\"0\",\"1\",\"2\"]\n",
    "data = { i:pd.read_csv(data_path + f\"m{i}.csv\") for i in m}"
   ]
  },
  {
   "cell_type": "code",
   "execution_count": null,
   "metadata": {},
   "outputs": [],
   "source": [
    "s = data[\"0\"][\"s\"].to_numpy()\n",
    "fig, axes = plt.subplots(1,2,figsize=(12,5))\n",
    "\n",
    "ax = axes[0]\n",
    "ax.plot(s,data[\"0\"][\"A\"])\n",
    "ax.set_xlabel(\"$s$\")\n",
    "ax.set_ylabel(\"$A$\")\n",
    "ax.set_ylim((0,13))\n",
    "\n",
    "ax = axes[1]\n",
    "ax.plot(s,data[\"0\"][\"B\"])\n",
    "ax.set_xlabel(\"$s$\")\n",
    "ax.set_ylabel(\"$B$\")\n",
    "ax.set_ylim((0,13))\n",
    "\n",
    "fig.text(0.5,0.9,\"$m=0$\",fontsize=15)\n",
    "fig.savefig(\"m0.png\")\n",
    "\n"
   ]
  },
  {
   "cell_type": "code",
   "execution_count": null,
   "metadata": {},
   "outputs": [],
   "source": [
    "s = data[\"1\"][\"s\"].to_numpy()\n",
    "fig, axes = plt.subplots(1,2,figsize=(12,5))\n",
    "\n",
    "ax = axes[0]\n",
    "ax.plot(s,data[\"1\"][\"A\"])\n",
    "ax.set_xlabel(\"$s$\")\n",
    "ax.set_ylabel(\"$A$\")\n",
    "ax.set_ylim((0,13))\n",
    "\n",
    "\n",
    "\n",
    "ax = axes[1]\n",
    "ax.plot(s,data[\"1\"][\"B\"])\n",
    "ax.set_xlabel(\"$s$\")\n",
    "ax.set_ylabel(\"$B$\")\n",
    "ax.set_ylim((0,13))\n",
    "\n",
    "\n",
    "fig.text(0.5,0.9,\"$m=1$\",fontsize=15)\n",
    "fig.savefig(\"m1.png\")"
   ]
  },
  {
   "cell_type": "code",
   "execution_count": null,
   "metadata": {},
   "outputs": [],
   "source": [
    "s = data[\"2\"][\"s\"].to_numpy()\n",
    "fig, axes = plt.subplots(1,2,figsize=(12,5))\n",
    "\n",
    "ax = axes[0]\n",
    "ax.plot(s,data[\"2\"][\"A\"])\n",
    "ax.set_xlabel(\"$s$\")\n",
    "ax.set_ylabel(\"$A$\")\n",
    "ax.set_ylim((0,13))\n",
    "\n",
    "\n",
    "\n",
    "ax = axes[1]\n",
    "ax.plot(s,data[\"2\"][\"B\"])\n",
    "ax.set_xlabel(\"$s$\")\n",
    "ax.set_ylabel(\"$B$\")\n",
    "ax.set_ylim((0,13))\n",
    "\n",
    "fig.text(0.5,0.9,\"$m=2$\",fontsize=15)\n",
    "fig.savefig(\"m2.png\")"
   ]
  }
 ],
 "metadata": {
  "kernelspec": {
   "display_name": "Python 3",
   "language": "python",
   "name": "python3"
  },
  "language_info": {
   "codemirror_mode": {
    "name": "ipython",
    "version": 3
   },
   "file_extension": ".py",
   "mimetype": "text/x-python",
   "name": "python",
   "nbconvert_exporter": "python",
   "pygments_lexer": "ipython3",
   "version": "3.10.12"
  }
 },
 "nbformat": 4,
 "nbformat_minor": 2
}
