{
 "cells": [
  {
   "cell_type": "markdown",
   "metadata": {},
   "source": [
    "# Test 1\n",
    "\n",
    "Creating a 2D playground\n",
    "\n",
    "This approach will not work. Too much trouble to compute gradients after integration.\\\n",
    "Make everything numerically."
   ]
  },
  {
   "cell_type": "code",
   "execution_count": 86,
   "metadata": {},
   "outputs": [],
   "source": [
    "import numpy as np\n",
    "import sympy as smp\n",
    "import matplotlib.pyplot as plt\n",
    "from numba import jit\n",
    "from scipy import integrate\n",
    "import numdifftools as nd"
   ]
  },
  {
   "cell_type": "markdown",
   "metadata": {},
   "source": [
    "Some parameter definitions. Change this cell to put a different number of parameters"
   ]
  },
  {
   "cell_type": "code",
   "execution_count": 99,
   "metadata": {},
   "outputs": [],
   "source": [
    "# Symbol definition\n",
    "lmb, x, y, = smp.symbols(\"\\lambda x y\", real=True)\n",
    "#A = smp.symbols(\"A_1 A_2 A_3 A_4\", real=True)\n",
    "A = smp.symbols(\"A_1 A_2\", real=True)\n",
    "U, med = smp.symbols(\"U, NL\", cls=smp.Function)\n",
    "\n",
    "U = U(x,y,*A)\n",
    "med = med(U,x,y)\n",
    "\n",
    "lagrangian_density = lmb*smp.Abs(U)**2 + sum(smp.diff(U,i)**2 for i in [x,y] ) + med\n",
    "\n",
    "# Some media\n",
    "kerr = smp.Abs(U)**4/2"
   ]
  },
  {
   "cell_type": "code",
   "execution_count": 100,
   "metadata": {},
   "outputs": [
    {
     "data": {
      "text/latex": [
       "$\\displaystyle A_{1} e^{\\frac{- x^{2} - y^{2}}{A_{2}}}$"
      ],
      "text/plain": [
       "A_1*exp((-x**2 - y**2)/A_2)"
      ]
     },
     "execution_count": 100,
     "metadata": {},
     "output_type": "execute_result"
    }
   ],
   "source": [
    "ansatz = A[0]*smp.exp(-(x**2+y**2)/A[1]) #+ A[2]*smp.exp(-((x-1)**2+y**2)/A[3]) \n",
    "ansatz"
   ]
  },
  {
   "cell_type": "code",
   "execution_count": 101,
   "metadata": {},
   "outputs": [
    {
     "data": {
      "text/latex": [
       "$\\displaystyle \\frac{A_{1}^{4} e^{- \\frac{4 \\left(x^{2} + y^{2}\\right)}{A_{2}}}}{2} + A_{1}^{2} e^{- \\frac{2 \\left(x^{2} + y^{2}\\right)}{A_{2}}} + \\frac{4 A_{1}^{2} x^{2} e^{\\frac{2 \\left(- x^{2} - y^{2}\\right)}{A_{2}}}}{A_{2}^{2}} + \\frac{4 A_{1}^{2} y^{2} e^{\\frac{2 \\left(- x^{2} - y^{2}\\right)}{A_{2}}}}{A_{2}^{2}}$"
      ],
      "text/plain": [
       "A_1**4*exp(-4*(x**2 + y**2)/A_2)/2 + A_1**2*exp(-2*(x**2 + y**2)/A_2) + 4*A_1**2*x**2*exp(2*(-x**2 - y**2)/A_2)/A_2**2 + 4*A_1**2*y**2*exp(2*(-x**2 - y**2)/A_2)/A_2**2"
      ]
     },
     "execution_count": 101,
     "metadata": {},
     "output_type": "execute_result"
    }
   ],
   "source": [
    "substitutions = {\n",
    "    U:ansatz,\n",
    "    med:kerr,\n",
    "    lmb:1\n",
    "}\n",
    "density = lagrangian_density.subs(substitutions).doit()\n",
    "density"
   ]
  },
  {
   "cell_type": "code",
   "execution_count": 102,
   "metadata": {},
   "outputs": [],
   "source": [
    "def get_lagrangian_value(params_vals,density):\n",
    "    params_subs = {A[i]:params_vals[i] for i in range(len(params_vals))}\n",
    "    space_density = smp.lambdify([x,y],density.subs(params_subs))\n",
    "    return integrate.dblquad(space_density,-np.inf, np.inf, -np.inf, np.inf)[0]"
   ]
  }
 ],
 "metadata": {
  "kernelspec": {
   "display_name": "Python 3",
   "language": "python",
   "name": "python3"
  },
  "language_info": {
   "codemirror_mode": {
    "name": "ipython",
    "version": 3
   },
   "file_extension": ".py",
   "mimetype": "text/x-python",
   "name": "python",
   "nbconvert_exporter": "python",
   "pygments_lexer": "ipython3",
   "version": "3.10.12"
  }
 },
 "nbformat": 4,
 "nbformat_minor": 2
}
